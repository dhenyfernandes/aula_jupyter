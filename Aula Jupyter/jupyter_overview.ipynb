{
 "cells": [
  {
   "cell_type": "markdown",
   "id": "7f4eeac9-9845-4fea-8a93-04968d739bc7",
   "metadata": {},
   "source": [
    "# Jupyter Notebook - Um Overview\n",
    "\n",
    "Dheny R. Fernandes\n",
    "- **E-mail**: profdheny.fernandes@fiap.com.br\n",
    "- **LinkedIn**: https://www.linkedin.com/in/dhenyfernandes/\n",
    "- **Github**: "
   ]
  },
  {
   "cell_type": "markdown",
   "id": "9e574687-d4b5-4feb-953f-7f9567e17530",
   "metadata": {},
   "source": [
    "## Agenda\n",
    "\n",
    "- [O que é um Jupyter Notebook?](#parte_1)\n",
    "\n",
    "- [Instalando o Jupyter Notebook](#parte_2)\n",
    "\n",
    "- Executando o Jupyter Notebook\n",
    "\n",
    "- Explicando a Interface\n",
    "\n",
    "- [Keyboard shortcuts](#parte_3)\n",
    "\n",
    "- [Markdown](#parte_4)\n",
    "\n",
    "- [Imagens e fórmulas](#parte_5)\n",
    "\n",
    "- [Uma breve introdução ao Pandas](#parte_6)\n",
    "\n",
    "- [Exercícios](#parte_7)\n",
    "\n",
    "- [Links úteis](#parte_8)"
   ]
  },
  {
   "cell_type": "markdown",
   "id": "a5630dcf-f8a9-42c3-863e-fce332a5283f",
   "metadata": {},
   "source": [
    "## Definição<a id='parte_1'></a>"
   ]
  },
  {
   "cell_type": "markdown",
   "id": "e3aa7ef6-8d84-4d9a-a3f7-fdb4c5365b31",
   "metadata": {},
   "source": [
    "Um notebook integra código e sua saída num único documento que combina visualização, narrativa em texto, equações matemáticas e outras mídias ricas. Em outras palavras: é um único documento em que você executa código, apresenta a saída e adiciona explicações, fórmulas, gráficos e outros, deixando seu trabalho mais transparente, entendível e fácil de compartilhar. "
   ]
  },
  {
   "cell_type": "markdown",
   "id": "f0323712-c35b-4981-a991-227d5013db03",
   "metadata": {},
   "source": [
    "## Instalação<a id='parte_2'></a>"
   ]
  },
  {
   "cell_type": "markdown",
   "id": "cf7cf045-9f0c-4590-95f5-d03373b1f24d",
   "metadata": {},
   "source": [
    "A maneira mais simples de instalar o Jupyter é via instalaçáo do [Anaconda](https://www.anaconda.com/download/).\n",
    "\n",
    "Entretanto, caso você seja um usuário mais avançado de Python, pode fazer a instalação do pacote manualmente via pip: \n",
    "\n",
    "* pip install jupyter"
   ]
  },
  {
   "cell_type": "markdown",
   "id": "8ba1b208-cdc3-4d35-9744-15070f566a6c",
   "metadata": {},
   "source": [
    "## Keyboard Shortcuts<a id='parte_3'></a>"
   ]
  },
  {
   "cell_type": "markdown",
   "id": "220fe205-ca3d-4296-88a1-bcb4a8e23c75",
   "metadata": {},
   "source": [
    "* **Esc** e **Enter** são usadas para alternar a célula entre modo de comando (a seleção fica fora da célula) e modo de edição (a seleção fica interna - para escrever código ou markdown)\n",
    "\n",
    "* Em modo de comando:\n",
    "    1. As setas para cima e para baixo navegam pelas células\n",
    "    2. Pressione A ou B para inserir uma nova célula acima ou abaixo da célula atual\n",
    "    3. M irá transformar a célula ativa numa célula Markdown\n",
    "    4. Y irá transformar a célula ativa numa célula de código\n",
    "    5. D (2x) irá deletar a célula ativa\n",
    "    6. Z desfaz a deleção da célula\n",
    "    7. Segurar Shift e pressione seta para cima ou para baixo para selecionar múltiplas células de uma vez. Com múltiplas células selecionadas, Shift+M irá fazer um merge da seleção\n",
    "    "
   ]
  },
  {
   "cell_type": "markdown",
   "id": "997e3beb-5d1b-4595-bc1e-d17e80d6d268",
   "metadata": {},
   "source": [
    "## Markdown<a id='parte_4'></a>"
   ]
  },
  {
   "cell_type": "markdown",
   "id": "7c7cb401-ada0-4cb0-987a-30df0c19c789",
   "metadata": {},
   "source": [
    "# Cabeçalho nível 1\n",
    "\n",
    "## Cabeçalho nível 2\n",
    "\n",
    "Este é apenas um texto puro. É possível adicionar êmfase usando *itálico*, **negrito** ou __negrito__\n",
    "\n",
    "Parágrafos podem ser separados por uma linha em branco\n",
    "\n",
    "* As vezes você quer usar bullets\n",
    "* que podem ser feitos usando asteríscos\n",
    "\n",
    "1. As listas podem ser numeradas também\n",
    "2. se você as quer de maneira ordenada\n",
    "\n",
    "[É possível incluir links externos](https://www.python.org/)\n",
    "\n",
    "Códigos inline usam um acento grave: `import pandas as pd` e bloco de códigos usam três acentos graves:\n",
    "\n",
    "```\n",
    "def exemplo(x):\n",
    "    y = x\n",
    "    return y\n",
    "```"
   ]
  },
  {
   "cell_type": "markdown",
   "id": "029d13b2-6ed8-451b-a50f-4e390c8dee70",
   "metadata": {},
   "source": [
    "## Imagens e Fórmulas<a id='parte_5'></a>"
   ]
  },
  {
   "cell_type": "markdown",
   "id": "68cdbd09-d911-4f9f-b7da-4b1d77494534",
   "metadata": {},
   "source": [
    "Podemos adicionar imagens de páginas da internet da seguinte maneira:\n",
    "\n",
    "![Símbolo do Python](https://miro.medium.com/v2/resize:fit:1400/1*ycIMlwgwicqlO6PcFRA-Iw.png)\n",
    "\n",
    "Já adicionar imagens a partir do nosso computador é relativamente simples também:\n",
    "\n",
    "<img src=\"img/logo.png\" />"
   ]
  },
  {
   "cell_type": "markdown",
   "id": "1c48b444-87b8-430e-80a6-56d33179b2cd",
   "metadata": {},
   "source": [
    "As fórmulas são construídas a partir da linguagem latex, que é um sistema de composição de alta qualidade. Veja a documentação oficial [aqui](https://www.latex-project.org/). \n",
    "\n",
    "Aprender o latex foge do escopo dessa aula, mas no final eu deixei alguns links para consulta. A título de exemplo, veja as seguintes fórmulas:\n",
    "\n",
    "- Função de Kernel RBF usada no SVM:\n",
    "\n",
    "$\\phi\\gamma(x, \\ell) = exp(-\\gamma\\|x-\\ell\\|^2)$\n",
    "\n",
    "- Função que normaliza os dados usando a técnica chamada MinMaxScaler:\n",
    "\n",
    "\\begin{align}\n",
    "x = \\frac{x - min}{max - min}\n",
    "\\end{align}"
   ]
  },
  {
   "cell_type": "markdown",
   "id": "339d9c8b-e32c-4f88-a644-c2ce3fdb1382",
   "metadata": {},
   "source": [
    "## Introdução ao Pandas<a id='parte_6'></a>"
   ]
  },
  {
   "cell_type": "markdown",
   "id": "233fc75c-076f-48e2-a442-66d7fb5f13b1",
   "metadata": {},
   "source": [
    "Pandas é uma biblioteca que contém estrutura de dados de alto nível e ferramentas de manipulação projetadas para tornar análise de dados rápida e fácil em Python.\n",
    "\n",
    "Para começar a entender Pandas é preciso compreender e ficar confortável com suas duas principais estrutura de dados: Series e DataFrame."
   ]
  },
  {
   "cell_type": "markdown",
   "id": "ccfaf237-cf46-40cb-bd9b-20b7cc613f19",
   "metadata": {},
   "source": [
    "Série: uma serie é um objeto 1D que contém um array de dados e é associado à um índice. Veja o exemplo abaixo:"
   ]
  },
  {
   "cell_type": "code",
   "execution_count": 1,
   "id": "7c700739-d0ac-4065-a5fc-a489cc180d12",
   "metadata": {},
   "outputs": [
    {
     "data": {
      "text/plain": [
       "0    4\n",
       "1    7\n",
       "2   -5\n",
       "3    3\n",
       "dtype: int64"
      ]
     },
     "execution_count": 1,
     "metadata": {},
     "output_type": "execute_result"
    }
   ],
   "source": [
    "from pandas import Series, DataFrame\n",
    "import pandas as pd\n",
    "obj = Series([4, 7, -5, 3])\n",
    "obj"
   ]
  },
  {
   "cell_type": "markdown",
   "id": "90e5574e-e199-47d5-9219-a96c3b0b5df3",
   "metadata": {},
   "source": [
    "É possível recuperar os valores e o índice de uma série através de seus atributos:"
   ]
  },
  {
   "cell_type": "code",
   "execution_count": 2,
   "id": "43d3da48-673a-4835-98b2-29edd06fe6a4",
   "metadata": {},
   "outputs": [
    {
     "name": "stdout",
     "output_type": "stream",
     "text": [
      "[ 4  7 -5  3]\n",
      "RangeIndex(start=0, stop=4, step=1)\n"
     ]
    }
   ],
   "source": [
    "print(obj.values)\n",
    "print(obj.index) "
   ]
  },
  {
   "cell_type": "markdown",
   "id": "0d107600-c4b1-4cda-8eda-35ccd7361bc0",
   "metadata": {},
   "source": [
    "Pandas permite a realização de operações vetorizadas e fácil integração com as funções do Numpy:"
   ]
  },
  {
   "cell_type": "code",
   "execution_count": 3,
   "id": "58bf4214-b499-49b6-9d5e-01efaa2ff968",
   "metadata": {},
   "outputs": [
    {
     "data": {
      "text/plain": [
       "d    4\n",
       "b    7\n",
       "a   -5\n",
       "c    3\n",
       "dtype: int64"
      ]
     },
     "execution_count": 3,
     "metadata": {},
     "output_type": "execute_result"
    }
   ],
   "source": [
    "obj2 = Series([4, 7, -5, 3], index=['d', 'b', 'a', 'c']) #especificando o índice\n",
    "obj2"
   ]
  },
  {
   "cell_type": "code",
   "execution_count": 5,
   "id": "d5ef1ee6-b74f-4a07-8033-a13aa5aee8d0",
   "metadata": {},
   "outputs": [
    {
     "name": "stdout",
     "output_type": "stream",
     "text": [
      "d    4\n",
      "c    3\n",
      "dtype: int64\n",
      "\n",
      "d     8\n",
      "b    14\n",
      "a   -10\n",
      "c     6\n",
      "dtype: int64\n",
      "\n",
      "d      54.598150\n",
      "b    1096.633158\n",
      "a       0.006738\n",
      "c      20.085537\n",
      "dtype: float64\n"
     ]
    }
   ],
   "source": [
    "import numpy as np\n",
    "print(obj2[(obj2 > 0) & (obj2 < 5)])\n",
    "print()\n",
    "print(obj2 * 2)\n",
    "print()\n",
    "print(np.exp(obj2))"
   ]
  },
  {
   "cell_type": "markdown",
   "id": "90ecb92f-face-4eb7-b2be-16c16c03185a",
   "metadata": {},
   "source": [
    "É possível criar uma Serie a partir de um dicionário:"
   ]
  },
  {
   "cell_type": "code",
   "execution_count": 6,
   "id": "0f071ac5-08b6-40cd-b499-b1485037f836",
   "metadata": {},
   "outputs": [
    {
     "data": {
      "text/plain": [
       "Ohio      35000\n",
       "Texas     71000\n",
       "Oregon    16000\n",
       "Utah       5000\n",
       "dtype: int64"
      ]
     },
     "execution_count": 6,
     "metadata": {},
     "output_type": "execute_result"
    }
   ],
   "source": [
    "sdata = {'Ohio': 35000, 'Texas': 71000, 'Oregon': 16000, 'Utah': 5000}\n",
    "obj3 = Series(sdata)\n",
    "obj3"
   ]
  },
  {
   "cell_type": "markdown",
   "id": "82c5a7e6-1207-4d86-a118-17fe4b201b2a",
   "metadata": {},
   "source": [
    "Quando passa apenas um dicionário, o índice na série resultante terá as chaves dos dicionários na ordem escrita:"
   ]
  },
  {
   "cell_type": "code",
   "execution_count": 7,
   "id": "bd387755-e46b-4398-8229-ea5615d39120",
   "metadata": {},
   "outputs": [
    {
     "data": {
      "text/plain": [
       "Oregon        16000.0\n",
       "Texas         71000.0\n",
       "California        NaN\n",
       "Ohio          35000.0\n",
       "dtype: float64"
      ]
     },
     "execution_count": 7,
     "metadata": {},
     "output_type": "execute_result"
    }
   ],
   "source": [
    "states = ['Oregon', 'Texas','California', 'Ohio']\n",
    "obj4 = Series(sdata, index=states)\n",
    "obj4"
   ]
  },
  {
   "cell_type": "markdown",
   "id": "96ba2a01-fb91-475d-b29b-5463e5319370",
   "metadata": {},
   "source": [
    "Um DataFrame representa uma estrutura de dados tabular contendo uma coleção ordenada de colunas, sendo que cada uma pode ser de um tipo diferente. Além disso, ele possui índice de linha e coluna.\n",
    "\n",
    "Existem diversas maneiras de se construir um DataFrame. Uma das mais comuns é a partir de um dicionário de listas ou arrays de mesmo tamanho:"
   ]
  },
  {
   "cell_type": "code",
   "execution_count": 8,
   "id": "0edfd1e3-1173-4748-9a73-58d51bfc70c8",
   "metadata": {},
   "outputs": [
    {
     "data": {
      "text/html": [
       "<div>\n",
       "<style scoped>\n",
       "    .dataframe tbody tr th:only-of-type {\n",
       "        vertical-align: middle;\n",
       "    }\n",
       "\n",
       "    .dataframe tbody tr th {\n",
       "        vertical-align: top;\n",
       "    }\n",
       "\n",
       "    .dataframe thead th {\n",
       "        text-align: right;\n",
       "    }\n",
       "</style>\n",
       "<table border=\"1\" class=\"dataframe\">\n",
       "  <thead>\n",
       "    <tr style=\"text-align: right;\">\n",
       "      <th></th>\n",
       "      <th>state</th>\n",
       "      <th>year</th>\n",
       "      <th>pop</th>\n",
       "    </tr>\n",
       "  </thead>\n",
       "  <tbody>\n",
       "    <tr>\n",
       "      <th>0</th>\n",
       "      <td>Ohio</td>\n",
       "      <td>2000</td>\n",
       "      <td>1.5</td>\n",
       "    </tr>\n",
       "    <tr>\n",
       "      <th>1</th>\n",
       "      <td>Ohio</td>\n",
       "      <td>2001</td>\n",
       "      <td>1.7</td>\n",
       "    </tr>\n",
       "    <tr>\n",
       "      <th>2</th>\n",
       "      <td>Ohio</td>\n",
       "      <td>2002</td>\n",
       "      <td>3.6</td>\n",
       "    </tr>\n",
       "    <tr>\n",
       "      <th>3</th>\n",
       "      <td>Nevada</td>\n",
       "      <td>2001</td>\n",
       "      <td>2.4</td>\n",
       "    </tr>\n",
       "    <tr>\n",
       "      <th>4</th>\n",
       "      <td>Nevada</td>\n",
       "      <td>2002</td>\n",
       "      <td>2.9</td>\n",
       "    </tr>\n",
       "  </tbody>\n",
       "</table>\n",
       "</div>"
      ],
      "text/plain": [
       "    state  year  pop\n",
       "0    Ohio  2000  1.5\n",
       "1    Ohio  2001  1.7\n",
       "2    Ohio  2002  3.6\n",
       "3  Nevada  2001  2.4\n",
       "4  Nevada  2002  2.9"
      ]
     },
     "execution_count": 8,
     "metadata": {},
     "output_type": "execute_result"
    }
   ],
   "source": [
    "data = {'state': ['Ohio', 'Ohio', 'Ohio', 'Nevada', 'Nevada'],\n",
    "        'year': [2000, 2001, 2002, 2001, 2002],\n",
    "        'pop': [1.5, 1.7, 3.6, 2.4, 2.9]}\n",
    "df = DataFrame(data)\n",
    "df"
   ]
  },
  {
   "cell_type": "markdown",
   "id": "4e611187-26d0-4623-bcc5-306593132b7e",
   "metadata": {},
   "source": [
    "É possível informar a sequencia das colunas no DataFrame e, se houver uma coluna sem dados, seus valores serão NaN. É possível definir o índice também:"
   ]
  },
  {
   "cell_type": "code",
   "execution_count": 9,
   "id": "9034b937-878d-4173-b405-85ea8268a637",
   "metadata": {},
   "outputs": [
    {
     "data": {
      "text/html": [
       "<div>\n",
       "<style scoped>\n",
       "    .dataframe tbody tr th:only-of-type {\n",
       "        vertical-align: middle;\n",
       "    }\n",
       "\n",
       "    .dataframe tbody tr th {\n",
       "        vertical-align: top;\n",
       "    }\n",
       "\n",
       "    .dataframe thead th {\n",
       "        text-align: right;\n",
       "    }\n",
       "</style>\n",
       "<table border=\"1\" class=\"dataframe\">\n",
       "  <thead>\n",
       "    <tr style=\"text-align: right;\">\n",
       "      <th></th>\n",
       "      <th>year</th>\n",
       "      <th>state</th>\n",
       "      <th>pop</th>\n",
       "      <th>debt</th>\n",
       "    </tr>\n",
       "  </thead>\n",
       "  <tbody>\n",
       "    <tr>\n",
       "      <th>one</th>\n",
       "      <td>2000</td>\n",
       "      <td>Ohio</td>\n",
       "      <td>1.5</td>\n",
       "      <td>NaN</td>\n",
       "    </tr>\n",
       "    <tr>\n",
       "      <th>two</th>\n",
       "      <td>2001</td>\n",
       "      <td>Ohio</td>\n",
       "      <td>1.7</td>\n",
       "      <td>NaN</td>\n",
       "    </tr>\n",
       "    <tr>\n",
       "      <th>three</th>\n",
       "      <td>2002</td>\n",
       "      <td>Ohio</td>\n",
       "      <td>3.6</td>\n",
       "      <td>NaN</td>\n",
       "    </tr>\n",
       "    <tr>\n",
       "      <th>four</th>\n",
       "      <td>2001</td>\n",
       "      <td>Nevada</td>\n",
       "      <td>2.4</td>\n",
       "      <td>NaN</td>\n",
       "    </tr>\n",
       "    <tr>\n",
       "      <th>five</th>\n",
       "      <td>2002</td>\n",
       "      <td>Nevada</td>\n",
       "      <td>2.9</td>\n",
       "      <td>NaN</td>\n",
       "    </tr>\n",
       "  </tbody>\n",
       "</table>\n",
       "</div>"
      ],
      "text/plain": [
       "       year   state  pop debt\n",
       "one    2000    Ohio  1.5  NaN\n",
       "two    2001    Ohio  1.7  NaN\n",
       "three  2002    Ohio  3.6  NaN\n",
       "four   2001  Nevada  2.4  NaN\n",
       "five   2002  Nevada  2.9  NaN"
      ]
     },
     "execution_count": 9,
     "metadata": {},
     "output_type": "execute_result"
    }
   ],
   "source": [
    "df2 = DataFrame(data, columns=['year', 'state', 'pop', 'debt'],\n",
    "                index=['one', 'two', 'three', 'four', 'five'])\n",
    "df2"
   ]
  },
  {
   "cell_type": "markdown",
   "id": "54b594f7-2e25-4bcf-847f-d0221a19a9bb",
   "metadata": {},
   "source": [
    "É possível retornar uma coluna de um DataFrame como um objeto Serie através da notação de dicionário ou atributo"
   ]
  },
  {
   "cell_type": "code",
   "execution_count": 11,
   "id": "97815e3f-a201-403c-8ee4-3a37704ca707",
   "metadata": {},
   "outputs": [
    {
     "name": "stdout",
     "output_type": "stream",
     "text": [
      "0      Ohio\n",
      "1      Ohio\n",
      "2      Ohio\n",
      "3    Nevada\n",
      "4    Nevada\n",
      "Name: state, dtype: object\n",
      "\n",
      "0    2000\n",
      "1    2001\n",
      "2    2002\n",
      "3    2001\n",
      "4    2002\n",
      "Name: year, dtype: int64\n"
     ]
    }
   ],
   "source": [
    "print(df['state'])\n",
    "print()\n",
    "print(df.year)"
   ]
  },
  {
   "cell_type": "markdown",
   "id": "5c28eeb0-60db-4b00-8e4e-c340ec94b49e",
   "metadata": {},
   "source": [
    "Para recuperar uma linha, usamos loc e iloc. O primeiro é para índice baseado em string e o segundo para índice baseado em inteiro:"
   ]
  },
  {
   "cell_type": "code",
   "execution_count": 13,
   "id": "83bbb0fe-3235-4c9b-aefc-20d703505dad",
   "metadata": {},
   "outputs": [
    {
     "name": "stdout",
     "output_type": "stream",
     "text": [
      "year       2001\n",
      "state    Nevada\n",
      "pop         2.4\n",
      "debt        NaN\n",
      "Name: four, dtype: object\n",
      "\n",
      "state    Ohio\n",
      "year     2000\n",
      "pop       1.5\n",
      "Name: 0, dtype: object\n"
     ]
    }
   ],
   "source": [
    "print(df2.loc['four']) #label\n",
    "print()\n",
    "print(df.iloc[0]) #int"
   ]
  },
  {
   "cell_type": "markdown",
   "id": "422a5e32-5087-4505-ab03-d447657ac1fe",
   "metadata": {},
   "source": [
    "Podemos modificar os valores de colunas através de atribuição:"
   ]
  },
  {
   "cell_type": "code",
   "execution_count": 15,
   "id": "4fedacf1-0b36-4493-88d3-6709b51c7a08",
   "metadata": {},
   "outputs": [
    {
     "data": {
      "text/html": [
       "<div>\n",
       "<style scoped>\n",
       "    .dataframe tbody tr th:only-of-type {\n",
       "        vertical-align: middle;\n",
       "    }\n",
       "\n",
       "    .dataframe tbody tr th {\n",
       "        vertical-align: top;\n",
       "    }\n",
       "\n",
       "    .dataframe thead th {\n",
       "        text-align: right;\n",
       "    }\n",
       "</style>\n",
       "<table border=\"1\" class=\"dataframe\">\n",
       "  <thead>\n",
       "    <tr style=\"text-align: right;\">\n",
       "      <th></th>\n",
       "      <th>year</th>\n",
       "      <th>state</th>\n",
       "      <th>pop</th>\n",
       "      <th>debt</th>\n",
       "    </tr>\n",
       "  </thead>\n",
       "  <tbody>\n",
       "    <tr>\n",
       "      <th>one</th>\n",
       "      <td>2000</td>\n",
       "      <td>Ohio</td>\n",
       "      <td>1.5</td>\n",
       "      <td>0</td>\n",
       "    </tr>\n",
       "    <tr>\n",
       "      <th>two</th>\n",
       "      <td>2001</td>\n",
       "      <td>Ohio</td>\n",
       "      <td>1.7</td>\n",
       "      <td>1</td>\n",
       "    </tr>\n",
       "    <tr>\n",
       "      <th>three</th>\n",
       "      <td>2002</td>\n",
       "      <td>Ohio</td>\n",
       "      <td>3.6</td>\n",
       "      <td>2</td>\n",
       "    </tr>\n",
       "    <tr>\n",
       "      <th>four</th>\n",
       "      <td>2001</td>\n",
       "      <td>Nevada</td>\n",
       "      <td>2.4</td>\n",
       "      <td>3</td>\n",
       "    </tr>\n",
       "    <tr>\n",
       "      <th>five</th>\n",
       "      <td>2002</td>\n",
       "      <td>Nevada</td>\n",
       "      <td>2.9</td>\n",
       "      <td>4</td>\n",
       "    </tr>\n",
       "  </tbody>\n",
       "</table>\n",
       "</div>"
      ],
      "text/plain": [
       "       year   state  pop  debt\n",
       "one    2000    Ohio  1.5     0\n",
       "two    2001    Ohio  1.7     1\n",
       "three  2002    Ohio  3.6     2\n",
       "four   2001  Nevada  2.4     3\n",
       "five   2002  Nevada  2.9     4"
      ]
     },
     "execution_count": 15,
     "metadata": {},
     "output_type": "execute_result"
    }
   ],
   "source": [
    "df2['debt'] = np.arange(len(df2))\n",
    "df2"
   ]
  },
  {
   "cell_type": "markdown",
   "id": "2af7b0dd-8b5c-4fa5-bac7-57c8e9f01f2a",
   "metadata": {},
   "source": [
    "Atribuir uma coluna que não existe a um DataFrame irá criar uma nova coluna:"
   ]
  },
  {
   "cell_type": "code",
   "execution_count": 16,
   "id": "3048a484-8274-4cb3-9ce7-88fc495a07c2",
   "metadata": {},
   "outputs": [
    {
     "data": {
      "text/html": [
       "<div>\n",
       "<style scoped>\n",
       "    .dataframe tbody tr th:only-of-type {\n",
       "        vertical-align: middle;\n",
       "    }\n",
       "\n",
       "    .dataframe tbody tr th {\n",
       "        vertical-align: top;\n",
       "    }\n",
       "\n",
       "    .dataframe thead th {\n",
       "        text-align: right;\n",
       "    }\n",
       "</style>\n",
       "<table border=\"1\" class=\"dataframe\">\n",
       "  <thead>\n",
       "    <tr style=\"text-align: right;\">\n",
       "      <th></th>\n",
       "      <th>year</th>\n",
       "      <th>state</th>\n",
       "      <th>pop</th>\n",
       "      <th>debt</th>\n",
       "      <th>eastern</th>\n",
       "    </tr>\n",
       "  </thead>\n",
       "  <tbody>\n",
       "    <tr>\n",
       "      <th>one</th>\n",
       "      <td>2000</td>\n",
       "      <td>Ohio</td>\n",
       "      <td>1.5</td>\n",
       "      <td>0</td>\n",
       "      <td>True</td>\n",
       "    </tr>\n",
       "    <tr>\n",
       "      <th>two</th>\n",
       "      <td>2001</td>\n",
       "      <td>Ohio</td>\n",
       "      <td>1.7</td>\n",
       "      <td>1</td>\n",
       "      <td>True</td>\n",
       "    </tr>\n",
       "    <tr>\n",
       "      <th>three</th>\n",
       "      <td>2002</td>\n",
       "      <td>Ohio</td>\n",
       "      <td>3.6</td>\n",
       "      <td>2</td>\n",
       "      <td>True</td>\n",
       "    </tr>\n",
       "    <tr>\n",
       "      <th>four</th>\n",
       "      <td>2001</td>\n",
       "      <td>Nevada</td>\n",
       "      <td>2.4</td>\n",
       "      <td>3</td>\n",
       "      <td>False</td>\n",
       "    </tr>\n",
       "    <tr>\n",
       "      <th>five</th>\n",
       "      <td>2002</td>\n",
       "      <td>Nevada</td>\n",
       "      <td>2.9</td>\n",
       "      <td>4</td>\n",
       "      <td>False</td>\n",
       "    </tr>\n",
       "  </tbody>\n",
       "</table>\n",
       "</div>"
      ],
      "text/plain": [
       "       year   state  pop  debt  eastern\n",
       "one    2000    Ohio  1.5     0     True\n",
       "two    2001    Ohio  1.7     1     True\n",
       "three  2002    Ohio  3.6     2     True\n",
       "four   2001  Nevada  2.4     3    False\n",
       "five   2002  Nevada  2.9     4    False"
      ]
     },
     "execution_count": 16,
     "metadata": {},
     "output_type": "execute_result"
    }
   ],
   "source": [
    "df2['eastern'] = df2.state == 'Ohio'\n",
    "df2"
   ]
  },
  {
   "cell_type": "markdown",
   "id": "383cd18e-2f1f-489f-abd0-242c04321c57",
   "metadata": {},
   "source": [
    "Para apagar uma coluna, use del:"
   ]
  },
  {
   "cell_type": "code",
   "execution_count": 17,
   "id": "9ae20a9c-57bb-436a-b789-08a1c363e217",
   "metadata": {},
   "outputs": [
    {
     "data": {
      "text/html": [
       "<div>\n",
       "<style scoped>\n",
       "    .dataframe tbody tr th:only-of-type {\n",
       "        vertical-align: middle;\n",
       "    }\n",
       "\n",
       "    .dataframe tbody tr th {\n",
       "        vertical-align: top;\n",
       "    }\n",
       "\n",
       "    .dataframe thead th {\n",
       "        text-align: right;\n",
       "    }\n",
       "</style>\n",
       "<table border=\"1\" class=\"dataframe\">\n",
       "  <thead>\n",
       "    <tr style=\"text-align: right;\">\n",
       "      <th></th>\n",
       "      <th>year</th>\n",
       "      <th>state</th>\n",
       "      <th>pop</th>\n",
       "      <th>debt</th>\n",
       "    </tr>\n",
       "  </thead>\n",
       "  <tbody>\n",
       "    <tr>\n",
       "      <th>one</th>\n",
       "      <td>2000</td>\n",
       "      <td>Ohio</td>\n",
       "      <td>1.5</td>\n",
       "      <td>0</td>\n",
       "    </tr>\n",
       "    <tr>\n",
       "      <th>two</th>\n",
       "      <td>2001</td>\n",
       "      <td>Ohio</td>\n",
       "      <td>1.7</td>\n",
       "      <td>1</td>\n",
       "    </tr>\n",
       "    <tr>\n",
       "      <th>three</th>\n",
       "      <td>2002</td>\n",
       "      <td>Ohio</td>\n",
       "      <td>3.6</td>\n",
       "      <td>2</td>\n",
       "    </tr>\n",
       "    <tr>\n",
       "      <th>four</th>\n",
       "      <td>2001</td>\n",
       "      <td>Nevada</td>\n",
       "      <td>2.4</td>\n",
       "      <td>3</td>\n",
       "    </tr>\n",
       "    <tr>\n",
       "      <th>five</th>\n",
       "      <td>2002</td>\n",
       "      <td>Nevada</td>\n",
       "      <td>2.9</td>\n",
       "      <td>4</td>\n",
       "    </tr>\n",
       "  </tbody>\n",
       "</table>\n",
       "</div>"
      ],
      "text/plain": [
       "       year   state  pop  debt\n",
       "one    2000    Ohio  1.5     0\n",
       "two    2001    Ohio  1.7     1\n",
       "three  2002    Ohio  3.6     2\n",
       "four   2001  Nevada  2.4     3\n",
       "five   2002  Nevada  2.9     4"
      ]
     },
     "execution_count": 17,
     "metadata": {},
     "output_type": "execute_result"
    }
   ],
   "source": [
    "del df2['eastern']\n",
    "df2"
   ]
  },
  {
   "cell_type": "markdown",
   "id": "c93b052b-b80a-4fb9-949a-1cca9c712e20",
   "metadata": {},
   "source": [
    "Para recuperar os valores de um DataFrame usamos a mesma estrutura vista em Series:"
   ]
  },
  {
   "cell_type": "code",
   "execution_count": 18,
   "id": "eb5a75d1-405c-4aee-af09-7a9cc2e7f25d",
   "metadata": {},
   "outputs": [
    {
     "data": {
      "text/plain": [
       "array([['Ohio', 2000, 1.5],\n",
       "       ['Ohio', 2001, 1.7],\n",
       "       ['Ohio', 2002, 3.6],\n",
       "       ['Nevada', 2001, 2.4],\n",
       "       ['Nevada', 2002, 2.9]], dtype=object)"
      ]
     },
     "execution_count": 18,
     "metadata": {},
     "output_type": "execute_result"
    }
   ],
   "source": [
    "df.values"
   ]
  },
  {
   "cell_type": "markdown",
   "id": "e8c5015f-5d96-49f8-8a48-302326799a94",
   "metadata": {},
   "source": [
    "É possível mapear uma função a todos os elementos de um DataFrame:"
   ]
  },
  {
   "cell_type": "code",
   "execution_count": 19,
   "id": "9370d234-3fe8-4026-8bc2-ac6715a7d202",
   "metadata": {},
   "outputs": [
    {
     "data": {
      "text/html": [
       "<div>\n",
       "<style scoped>\n",
       "    .dataframe tbody tr th:only-of-type {\n",
       "        vertical-align: middle;\n",
       "    }\n",
       "\n",
       "    .dataframe tbody tr th {\n",
       "        vertical-align: top;\n",
       "    }\n",
       "\n",
       "    .dataframe thead th {\n",
       "        text-align: right;\n",
       "    }\n",
       "</style>\n",
       "<table border=\"1\" class=\"dataframe\">\n",
       "  <thead>\n",
       "    <tr style=\"text-align: right;\">\n",
       "      <th></th>\n",
       "      <th>b</th>\n",
       "      <th>d</th>\n",
       "      <th>e</th>\n",
       "    </tr>\n",
       "  </thead>\n",
       "  <tbody>\n",
       "    <tr>\n",
       "      <th>Utah</th>\n",
       "      <td>-1.060845</td>\n",
       "      <td>-1.100895</td>\n",
       "      <td>0.222415</td>\n",
       "    </tr>\n",
       "    <tr>\n",
       "      <th>Ohio</th>\n",
       "      <td>-0.136356</td>\n",
       "      <td>1.156053</td>\n",
       "      <td>-1.787082</td>\n",
       "    </tr>\n",
       "    <tr>\n",
       "      <th>Texas</th>\n",
       "      <td>0.313419</td>\n",
       "      <td>-1.657344</td>\n",
       "      <td>-0.337408</td>\n",
       "    </tr>\n",
       "    <tr>\n",
       "      <th>Oregon</th>\n",
       "      <td>-0.646232</td>\n",
       "      <td>1.032646</td>\n",
       "      <td>0.779317</td>\n",
       "    </tr>\n",
       "  </tbody>\n",
       "</table>\n",
       "</div>"
      ],
      "text/plain": [
       "               b         d         e\n",
       "Utah   -1.060845 -1.100895  0.222415\n",
       "Ohio   -0.136356  1.156053 -1.787082\n",
       "Texas   0.313419 -1.657344 -0.337408\n",
       "Oregon -0.646232  1.032646  0.779317"
      ]
     },
     "execution_count": 19,
     "metadata": {},
     "output_type": "execute_result"
    }
   ],
   "source": [
    "df = DataFrame(np.random.randn(4, 3), columns=list('bde'),\n",
    "                  index=['Utah', 'Ohio', 'Texas', 'Oregon'])\n",
    "df"
   ]
  },
  {
   "cell_type": "code",
   "execution_count": 20,
   "id": "f2a6d625-677b-4e17-b0cd-584530f5381f",
   "metadata": {},
   "outputs": [
    {
     "data": {
      "text/html": [
       "<div>\n",
       "<style scoped>\n",
       "    .dataframe tbody tr th:only-of-type {\n",
       "        vertical-align: middle;\n",
       "    }\n",
       "\n",
       "    .dataframe tbody tr th {\n",
       "        vertical-align: top;\n",
       "    }\n",
       "\n",
       "    .dataframe thead th {\n",
       "        text-align: right;\n",
       "    }\n",
       "</style>\n",
       "<table border=\"1\" class=\"dataframe\">\n",
       "  <thead>\n",
       "    <tr style=\"text-align: right;\">\n",
       "      <th></th>\n",
       "      <th>b</th>\n",
       "      <th>d</th>\n",
       "      <th>e</th>\n",
       "    </tr>\n",
       "  </thead>\n",
       "  <tbody>\n",
       "    <tr>\n",
       "      <th>Utah</th>\n",
       "      <td>1.060845</td>\n",
       "      <td>1.100895</td>\n",
       "      <td>0.222415</td>\n",
       "    </tr>\n",
       "    <tr>\n",
       "      <th>Ohio</th>\n",
       "      <td>0.136356</td>\n",
       "      <td>1.156053</td>\n",
       "      <td>1.787082</td>\n",
       "    </tr>\n",
       "    <tr>\n",
       "      <th>Texas</th>\n",
       "      <td>0.313419</td>\n",
       "      <td>1.657344</td>\n",
       "      <td>0.337408</td>\n",
       "    </tr>\n",
       "    <tr>\n",
       "      <th>Oregon</th>\n",
       "      <td>0.646232</td>\n",
       "      <td>1.032646</td>\n",
       "      <td>0.779317</td>\n",
       "    </tr>\n",
       "  </tbody>\n",
       "</table>\n",
       "</div>"
      ],
      "text/plain": [
       "               b         d         e\n",
       "Utah    1.060845  1.100895  0.222415\n",
       "Ohio    0.136356  1.156053  1.787082\n",
       "Texas   0.313419  1.657344  0.337408\n",
       "Oregon  0.646232  1.032646  0.779317"
      ]
     },
     "execution_count": 20,
     "metadata": {},
     "output_type": "execute_result"
    }
   ],
   "source": [
    "np.abs(df) #retorna valor absoluto"
   ]
  },
  {
   "cell_type": "markdown",
   "id": "d494c4b7-0b2a-47f4-bf5e-42d880131e8c",
   "metadata": {},
   "source": [
    "Outra frequente operação é aplicar uma função nos arrays de cada linha ou coluna. Apply faz isso:"
   ]
  },
  {
   "cell_type": "code",
   "execution_count": 22,
   "id": "c0a4b899-4834-4d50-ad77-bfc0ab0c28c6",
   "metadata": {},
   "outputs": [
    {
     "name": "stdout",
     "output_type": "stream",
     "text": [
      "b    1.374264\n",
      "d    2.813397\n",
      "e    2.566398\n",
      "dtype: float64\n",
      "\n",
      "Utah      1.323310\n",
      "Ohio      2.943135\n",
      "Texas     1.970763\n",
      "Oregon    1.678878\n",
      "dtype: float64\n"
     ]
    }
   ],
   "source": [
    "f = lambda x: x.max() - x.min()\n",
    "print(df.apply(f))\n",
    "print()\n",
    "print(df.apply(f, axis=1))"
   ]
  },
  {
   "cell_type": "markdown",
   "id": "07e0722f-4e43-4694-85f1-cf530434bbec",
   "metadata": {},
   "source": [
    "É possível aplicar funções elemento-a-elemento. Para isso, usa-se applymap:"
   ]
  },
  {
   "cell_type": "code",
   "execution_count": 23,
   "id": "8eb8ac71-2aff-4e39-a830-d61e4054b556",
   "metadata": {},
   "outputs": [
    {
     "data": {
      "text/html": [
       "<div>\n",
       "<style scoped>\n",
       "    .dataframe tbody tr th:only-of-type {\n",
       "        vertical-align: middle;\n",
       "    }\n",
       "\n",
       "    .dataframe tbody tr th {\n",
       "        vertical-align: top;\n",
       "    }\n",
       "\n",
       "    .dataframe thead th {\n",
       "        text-align: right;\n",
       "    }\n",
       "</style>\n",
       "<table border=\"1\" class=\"dataframe\">\n",
       "  <thead>\n",
       "    <tr style=\"text-align: right;\">\n",
       "      <th></th>\n",
       "      <th>b</th>\n",
       "      <th>d</th>\n",
       "      <th>e</th>\n",
       "    </tr>\n",
       "  </thead>\n",
       "  <tbody>\n",
       "    <tr>\n",
       "      <th>Utah</th>\n",
       "      <td>-1.06</td>\n",
       "      <td>-1.10</td>\n",
       "      <td>0.22</td>\n",
       "    </tr>\n",
       "    <tr>\n",
       "      <th>Ohio</th>\n",
       "      <td>-0.14</td>\n",
       "      <td>1.16</td>\n",
       "      <td>-1.79</td>\n",
       "    </tr>\n",
       "    <tr>\n",
       "      <th>Texas</th>\n",
       "      <td>0.31</td>\n",
       "      <td>-1.66</td>\n",
       "      <td>-0.34</td>\n",
       "    </tr>\n",
       "    <tr>\n",
       "      <th>Oregon</th>\n",
       "      <td>-0.65</td>\n",
       "      <td>1.03</td>\n",
       "      <td>0.78</td>\n",
       "    </tr>\n",
       "  </tbody>\n",
       "</table>\n",
       "</div>"
      ],
      "text/plain": [
       "            b      d      e\n",
       "Utah    -1.06  -1.10   0.22\n",
       "Ohio    -0.14   1.16  -1.79\n",
       "Texas    0.31  -1.66  -0.34\n",
       "Oregon  -0.65   1.03   0.78"
      ]
     },
     "execution_count": 23,
     "metadata": {},
     "output_type": "execute_result"
    }
   ],
   "source": [
    "format2 = lambda x: '%.2f' % x\n",
    "df.applymap(format2)"
   ]
  },
  {
   "cell_type": "markdown",
   "id": "f0754467-3166-4473-ae39-8fba96bcd054",
   "metadata": {},
   "source": [
    "Para ordenar uma coluna, ou linha, use o método sort_values:"
   ]
  },
  {
   "cell_type": "code",
   "execution_count": 26,
   "id": "e021391e-0546-4762-86e5-4458adde1fe2",
   "metadata": {},
   "outputs": [
    {
     "data": {
      "text/html": [
       "<div>\n",
       "<style scoped>\n",
       "    .dataframe tbody tr th:only-of-type {\n",
       "        vertical-align: middle;\n",
       "    }\n",
       "\n",
       "    .dataframe tbody tr th {\n",
       "        vertical-align: top;\n",
       "    }\n",
       "\n",
       "    .dataframe thead th {\n",
       "        text-align: right;\n",
       "    }\n",
       "</style>\n",
       "<table border=\"1\" class=\"dataframe\">\n",
       "  <thead>\n",
       "    <tr style=\"text-align: right;\">\n",
       "      <th></th>\n",
       "      <th>b</th>\n",
       "      <th>d</th>\n",
       "      <th>e</th>\n",
       "    </tr>\n",
       "  </thead>\n",
       "  <tbody>\n",
       "    <tr>\n",
       "      <th>Utah</th>\n",
       "      <td>-1.060845</td>\n",
       "      <td>-1.100895</td>\n",
       "      <td>0.222415</td>\n",
       "    </tr>\n",
       "    <tr>\n",
       "      <th>Oregon</th>\n",
       "      <td>-0.646232</td>\n",
       "      <td>1.032646</td>\n",
       "      <td>0.779317</td>\n",
       "    </tr>\n",
       "    <tr>\n",
       "      <th>Ohio</th>\n",
       "      <td>-0.136356</td>\n",
       "      <td>1.156053</td>\n",
       "      <td>-1.787082</td>\n",
       "    </tr>\n",
       "    <tr>\n",
       "      <th>Texas</th>\n",
       "      <td>0.313419</td>\n",
       "      <td>-1.657344</td>\n",
       "      <td>-0.337408</td>\n",
       "    </tr>\n",
       "  </tbody>\n",
       "</table>\n",
       "</div>"
      ],
      "text/plain": [
       "               b         d         e\n",
       "Utah   -1.060845 -1.100895  0.222415\n",
       "Oregon -0.646232  1.032646  0.779317\n",
       "Ohio   -0.136356  1.156053 -1.787082\n",
       "Texas   0.313419 -1.657344 -0.337408"
      ]
     },
     "execution_count": 26,
     "metadata": {},
     "output_type": "execute_result"
    }
   ],
   "source": [
    "df.sort_values(by=['b'])"
   ]
  },
  {
   "cell_type": "markdown",
   "id": "c75b3133-c40c-4766-ba9d-77b224bda4b3",
   "metadata": {},
   "source": [
    "A função Rank cria um índice que pode ser ascendente ou descendente:"
   ]
  },
  {
   "cell_type": "code",
   "execution_count": 27,
   "id": "1996e495-c0d4-4356-b4f7-c00cacbc2fc1",
   "metadata": {},
   "outputs": [
    {
     "name": "stdout",
     "output_type": "stream",
     "text": [
      "    name  nota\n",
      "0  Jason   8.0\n",
      "1  Molly   7.0\n",
      "2   Tina   7.5\n",
      "3   Jake  10.0\n",
      "4    Amy   5.0\n"
     ]
    },
    {
     "data": {
      "text/html": [
       "<div>\n",
       "<style scoped>\n",
       "    .dataframe tbody tr th:only-of-type {\n",
       "        vertical-align: middle;\n",
       "    }\n",
       "\n",
       "    .dataframe tbody tr th {\n",
       "        vertical-align: top;\n",
       "    }\n",
       "\n",
       "    .dataframe thead th {\n",
       "        text-align: right;\n",
       "    }\n",
       "</style>\n",
       "<table border=\"1\" class=\"dataframe\">\n",
       "  <thead>\n",
       "    <tr style=\"text-align: right;\">\n",
       "      <th></th>\n",
       "      <th>name</th>\n",
       "      <th>nota</th>\n",
       "      <th>rank</th>\n",
       "    </tr>\n",
       "  </thead>\n",
       "  <tbody>\n",
       "    <tr>\n",
       "      <th>3</th>\n",
       "      <td>Jake</td>\n",
       "      <td>10.0</td>\n",
       "      <td>1.0</td>\n",
       "    </tr>\n",
       "    <tr>\n",
       "      <th>0</th>\n",
       "      <td>Jason</td>\n",
       "      <td>8.0</td>\n",
       "      <td>2.0</td>\n",
       "    </tr>\n",
       "    <tr>\n",
       "      <th>2</th>\n",
       "      <td>Tina</td>\n",
       "      <td>7.5</td>\n",
       "      <td>3.0</td>\n",
       "    </tr>\n",
       "    <tr>\n",
       "      <th>1</th>\n",
       "      <td>Molly</td>\n",
       "      <td>7.0</td>\n",
       "      <td>4.0</td>\n",
       "    </tr>\n",
       "    <tr>\n",
       "      <th>4</th>\n",
       "      <td>Amy</td>\n",
       "      <td>5.0</td>\n",
       "      <td>5.0</td>\n",
       "    </tr>\n",
       "  </tbody>\n",
       "</table>\n",
       "</div>"
      ],
      "text/plain": [
       "    name  nota  rank\n",
       "3   Jake  10.0   1.0\n",
       "0  Jason   8.0   2.0\n",
       "2   Tina   7.5   3.0\n",
       "1  Molly   7.0   4.0\n",
       "4    Amy   5.0   5.0"
      ]
     },
     "execution_count": 27,
     "metadata": {},
     "output_type": "execute_result"
    }
   ],
   "source": [
    "data = {'name': ['Jason', 'Molly', 'Tina', 'Jake', 'Amy'], \n",
    "        'nota': [8, 7, 7.5, 10, 5]}\n",
    "df4 = DataFrame(data)\n",
    "print(df4)\n",
    "df4['rank'] = df4['nota'].rank(ascending=0)\n",
    "df4.sort_values('rank')"
   ]
  },
  {
   "cell_type": "markdown",
   "id": "f2b0de3b-c30c-4bd9-9260-a0e2ca139912",
   "metadata": {},
   "source": [
    "Pandas possui um vasto conjunto de métodos estatísticos e matemáticos. Vejamos:"
   ]
  },
  {
   "cell_type": "code",
   "execution_count": 28,
   "id": "be1c5364-0129-4c57-9f40-20b3a87d5d5b",
   "metadata": {},
   "outputs": [
    {
     "name": "stdout",
     "output_type": "stream",
     "text": [
      "    one  two\n",
      "a  1.40  NaN\n",
      "b  7.10 -4.5\n",
      "c   NaN  NaN\n",
      "d  0.75 -1.3\n",
      "one    9.25\n",
      "two   -5.80\n",
      "dtype: float64\n",
      "a    1.40\n",
      "b    2.60\n",
      "c    0.00\n",
      "d   -0.55\n",
      "dtype: float64\n",
      "one    3\n",
      "two    2\n",
      "dtype: int64\n"
     ]
    }
   ],
   "source": [
    "df5 = DataFrame([[1.4, np.nan], [7.1, -4.5],\n",
    "                [np.nan, np.nan], [0.75, -1.3]],\n",
    "               index=['a', 'b', 'c', 'd'],\n",
    "               columns=['one', 'two'])\n",
    "print(df5)\n",
    "print(df5.sum())\n",
    "print(df5.sum(axis=1))\n",
    "print(df5.count())"
   ]
  },
  {
   "cell_type": "markdown",
   "id": "b6fb8258-0133-43e8-b554-fa48e5a61953",
   "metadata": {},
   "source": [
    "O método describe() fornece um resumo estatístico dos dados:"
   ]
  },
  {
   "cell_type": "code",
   "execution_count": 29,
   "id": "45b9bf33-fb36-4e9f-a0c2-9bdbf4e97d7c",
   "metadata": {},
   "outputs": [
    {
     "data": {
      "text/html": [
       "<div>\n",
       "<style scoped>\n",
       "    .dataframe tbody tr th:only-of-type {\n",
       "        vertical-align: middle;\n",
       "    }\n",
       "\n",
       "    .dataframe tbody tr th {\n",
       "        vertical-align: top;\n",
       "    }\n",
       "\n",
       "    .dataframe thead th {\n",
       "        text-align: right;\n",
       "    }\n",
       "</style>\n",
       "<table border=\"1\" class=\"dataframe\">\n",
       "  <thead>\n",
       "    <tr style=\"text-align: right;\">\n",
       "      <th></th>\n",
       "      <th>one</th>\n",
       "      <th>two</th>\n",
       "    </tr>\n",
       "  </thead>\n",
       "  <tbody>\n",
       "    <tr>\n",
       "      <th>count</th>\n",
       "      <td>3.000000</td>\n",
       "      <td>2.000000</td>\n",
       "    </tr>\n",
       "    <tr>\n",
       "      <th>mean</th>\n",
       "      <td>3.083333</td>\n",
       "      <td>-2.900000</td>\n",
       "    </tr>\n",
       "    <tr>\n",
       "      <th>std</th>\n",
       "      <td>3.493685</td>\n",
       "      <td>2.262742</td>\n",
       "    </tr>\n",
       "    <tr>\n",
       "      <th>min</th>\n",
       "      <td>0.750000</td>\n",
       "      <td>-4.500000</td>\n",
       "    </tr>\n",
       "    <tr>\n",
       "      <th>25%</th>\n",
       "      <td>1.075000</td>\n",
       "      <td>-3.700000</td>\n",
       "    </tr>\n",
       "    <tr>\n",
       "      <th>50%</th>\n",
       "      <td>1.400000</td>\n",
       "      <td>-2.900000</td>\n",
       "    </tr>\n",
       "    <tr>\n",
       "      <th>75%</th>\n",
       "      <td>4.250000</td>\n",
       "      <td>-2.100000</td>\n",
       "    </tr>\n",
       "    <tr>\n",
       "      <th>max</th>\n",
       "      <td>7.100000</td>\n",
       "      <td>-1.300000</td>\n",
       "    </tr>\n",
       "  </tbody>\n",
       "</table>\n",
       "</div>"
      ],
      "text/plain": [
       "            one       two\n",
       "count  3.000000  2.000000\n",
       "mean   3.083333 -2.900000\n",
       "std    3.493685  2.262742\n",
       "min    0.750000 -4.500000\n",
       "25%    1.075000 -3.700000\n",
       "50%    1.400000 -2.900000\n",
       "75%    4.250000 -2.100000\n",
       "max    7.100000 -1.300000"
      ]
     },
     "execution_count": 29,
     "metadata": {},
     "output_type": "execute_result"
    }
   ],
   "source": [
    "df5.describe()"
   ]
  },
  {
   "cell_type": "markdown",
   "id": "1a7a3173-9b7b-46ce-b935-78ce8db3d296",
   "metadata": {},
   "source": [
    "Dados faltantes são comuns em muitas aplicações de análises de dados. Pandas foi projetado para lidar com isso o menos dolorido possível:"
   ]
  },
  {
   "cell_type": "code",
   "execution_count": 32,
   "id": "fa4b1f02-f880-462c-86d0-1843dc9e5198",
   "metadata": {},
   "outputs": [
    {
     "name": "stdout",
     "output_type": "stream",
     "text": [
      "     0    1    2\n",
      "0  1.0  6.5  3.0\n",
      "1  1.0  NaN  NaN\n",
      "2  NaN  NaN  NaN\n",
      "3  NaN  6.5  3.0\n",
      "\n",
      "\n",
      "      0    1    2\n",
      "0  1.0  6.5  3.0\n",
      "\n"
     ]
    },
    {
     "data": {
      "text/html": [
       "<div>\n",
       "<style scoped>\n",
       "    .dataframe tbody tr th:only-of-type {\n",
       "        vertical-align: middle;\n",
       "    }\n",
       "\n",
       "    .dataframe tbody tr th {\n",
       "        vertical-align: top;\n",
       "    }\n",
       "\n",
       "    .dataframe thead th {\n",
       "        text-align: right;\n",
       "    }\n",
       "</style>\n",
       "<table border=\"1\" class=\"dataframe\">\n",
       "  <thead>\n",
       "    <tr style=\"text-align: right;\">\n",
       "      <th></th>\n",
       "      <th>0</th>\n",
       "      <th>1</th>\n",
       "      <th>2</th>\n",
       "    </tr>\n",
       "  </thead>\n",
       "  <tbody>\n",
       "    <tr>\n",
       "      <th>0</th>\n",
       "      <td>1.0</td>\n",
       "      <td>6.5</td>\n",
       "      <td>3.0</td>\n",
       "    </tr>\n",
       "    <tr>\n",
       "      <th>1</th>\n",
       "      <td>1.0</td>\n",
       "      <td>NaN</td>\n",
       "      <td>NaN</td>\n",
       "    </tr>\n",
       "    <tr>\n",
       "      <th>3</th>\n",
       "      <td>NaN</td>\n",
       "      <td>6.5</td>\n",
       "      <td>3.0</td>\n",
       "    </tr>\n",
       "  </tbody>\n",
       "</table>\n",
       "</div>"
      ],
      "text/plain": [
       "     0    1    2\n",
       "0  1.0  6.5  3.0\n",
       "1  1.0  NaN  NaN\n",
       "3  NaN  6.5  3.0"
      ]
     },
     "execution_count": 32,
     "metadata": {},
     "output_type": "execute_result"
    }
   ],
   "source": [
    "data = DataFrame([[1., 6.5, 3.], [1., np.nan, np.nan],\n",
    "                  [np.nan, np.nan, np.nan], [np.nan, 6.5, 3.]])\n",
    "print(data)\n",
    "cleaned = data.dropna()\n",
    "print()\n",
    "print('\\n',cleaned)\n",
    "print()\n",
    "data.dropna(how='all')"
   ]
  },
  {
   "cell_type": "markdown",
   "id": "d15db820-9e94-4da6-bd6e-4a4d0a058516",
   "metadata": {},
   "source": [
    "É possível preencher os valores faltantes também:"
   ]
  },
  {
   "cell_type": "code",
   "execution_count": 33,
   "id": "0a7a8d87-0b69-4e67-8078-cf9178471933",
   "metadata": {},
   "outputs": [
    {
     "name": "stdout",
     "output_type": "stream",
     "text": [
      "     0    1    2\n",
      "0  1.0  6.5  3.0\n",
      "1  1.0  0.0  0.0\n",
      "2  0.0  0.0  0.0\n",
      "3  0.0  6.5  3.0\n",
      "     0    1    2\n",
      "0  1.0  6.5  3.0\n",
      "1  1.0  6.5  3.0\n",
      "2  1.0  6.5  3.0\n",
      "3  1.0  6.5  3.0\n"
     ]
    }
   ],
   "source": [
    "print(data.fillna(0))\n",
    "print(data.fillna(data.mean()))"
   ]
  },
  {
   "cell_type": "markdown",
   "id": "47defca3-cf42-44e9-a2c7-13bcd9e055df",
   "metadata": {},
   "source": [
    "Os dados contidos no Pandas podem ser combinados de algumas maneiras:\n",
    "\n",
    "* Merge: conecta linhas em DataFrames baseado em uma ou mais chaves. Operações join.\n",
    "\n",
    "* Concat: ‘cola’ objetos a partir de um eixo\n"
   ]
  },
  {
   "cell_type": "markdown",
   "id": "80d3ad0a-7d2c-4429-8500-cb3d1b95aa95",
   "metadata": {},
   "source": [
    "Iniciando pelo merge, considere as seguintes tabelas:"
   ]
  },
  {
   "cell_type": "code",
   "execution_count": 35,
   "id": "64fd9c8b-37ad-4212-a491-921cdf34b1cb",
   "metadata": {},
   "outputs": [
    {
     "data": {
      "text/html": [
       "<div>\n",
       "<style scoped>\n",
       "    .dataframe tbody tr th:only-of-type {\n",
       "        vertical-align: middle;\n",
       "    }\n",
       "\n",
       "    .dataframe tbody tr th {\n",
       "        vertical-align: top;\n",
       "    }\n",
       "\n",
       "    .dataframe thead th {\n",
       "        text-align: right;\n",
       "    }\n",
       "</style>\n",
       "<table border=\"1\" class=\"dataframe\">\n",
       "  <thead>\n",
       "    <tr style=\"text-align: right;\">\n",
       "      <th></th>\n",
       "      <th>Nome</th>\n",
       "      <th>Telefone</th>\n",
       "      <th>Carros</th>\n",
       "    </tr>\n",
       "  </thead>\n",
       "  <tbody>\n",
       "    <tr>\n",
       "      <th>0</th>\n",
       "      <td>João</td>\n",
       "      <td>12121</td>\n",
       "      <td>azul</td>\n",
       "    </tr>\n",
       "    <tr>\n",
       "      <th>1</th>\n",
       "      <td>João</td>\n",
       "      <td>343434</td>\n",
       "      <td>preto</td>\n",
       "    </tr>\n",
       "    <tr>\n",
       "      <th>2</th>\n",
       "      <td>Pedro</td>\n",
       "      <td>565656</td>\n",
       "      <td>verde</td>\n",
       "    </tr>\n",
       "    <tr>\n",
       "      <th>3</th>\n",
       "      <td>Caio</td>\n",
       "      <td>787878</td>\n",
       "      <td>amarelo</td>\n",
       "    </tr>\n",
       "  </tbody>\n",
       "</table>\n",
       "</div>"
      ],
      "text/plain": [
       "    Nome Telefone   Carros\n",
       "0   João    12121     azul\n",
       "1   João   343434    preto\n",
       "2  Pedro   565656    verde\n",
       "3   Caio   787878  amarelo"
      ]
     },
     "execution_count": 35,
     "metadata": {},
     "output_type": "execute_result"
    }
   ],
   "source": [
    "import pandas as pd\n",
    "df1 = pd.DataFrame({\n",
    "'Nome':['João', 'João', 'Pedro' , 'Caio'], \n",
    "'Telefone': ['12121', '343434', '565656', '787878'], \n",
    "'Carros': ['azul', 'preto', 'verde' , 'amarelo']})\n",
    "\n",
    "df1"
   ]
  },
  {
   "cell_type": "code",
   "execution_count": 36,
   "id": "0a41d476-5aad-4358-9139-9c97217a8b2d",
   "metadata": {},
   "outputs": [
    {
     "data": {
      "text/html": [
       "<div>\n",
       "<style scoped>\n",
       "    .dataframe tbody tr th:only-of-type {\n",
       "        vertical-align: middle;\n",
       "    }\n",
       "\n",
       "    .dataframe tbody tr th {\n",
       "        vertical-align: top;\n",
       "    }\n",
       "\n",
       "    .dataframe thead th {\n",
       "        text-align: right;\n",
       "    }\n",
       "</style>\n",
       "<table border=\"1\" class=\"dataframe\">\n",
       "  <thead>\n",
       "    <tr style=\"text-align: right;\">\n",
       "      <th></th>\n",
       "      <th>Nome</th>\n",
       "      <th>Irmãos</th>\n",
       "    </tr>\n",
       "  </thead>\n",
       "  <tbody>\n",
       "    <tr>\n",
       "      <th>0</th>\n",
       "      <td>João</td>\n",
       "      <td>1</td>\n",
       "    </tr>\n",
       "    <tr>\n",
       "      <th>1</th>\n",
       "      <td>Marcelo</td>\n",
       "      <td>3</td>\n",
       "    </tr>\n",
       "    <tr>\n",
       "      <th>2</th>\n",
       "      <td>Thiago</td>\n",
       "      <td>2</td>\n",
       "    </tr>\n",
       "    <tr>\n",
       "      <th>3</th>\n",
       "      <td>Caio</td>\n",
       "      <td>2</td>\n",
       "    </tr>\n",
       "  </tbody>\n",
       "</table>\n",
       "</div>"
      ],
      "text/plain": [
       "      Nome Irmãos\n",
       "0     João      1\n",
       "1  Marcelo      3\n",
       "2   Thiago      2\n",
       "3     Caio      2"
      ]
     },
     "execution_count": 36,
     "metadata": {},
     "output_type": "execute_result"
    }
   ],
   "source": [
    "df2 = pd.DataFrame({\n",
    "'Nome':['João', 'Marcelo', 'Thiago' , 'Caio'],  \n",
    "'Irmãos': ['1', '3', '2' , '2']})\n",
    "\n",
    "df2"
   ]
  },
  {
   "cell_type": "markdown",
   "id": "39c46a6d-37a0-4fa5-9489-d76cea7cda38",
   "metadata": {},
   "source": [
    "O merge segue a teoria dos conjuntos para agrupar dois datasets distintos. Observe a imagem:\n",
    "\n",
    "<img src=\"img/merge.png\" />"
   ]
  },
  {
   "cell_type": "code",
   "execution_count": 38,
   "id": "4d98cdca-f91c-420c-86ec-16fed5c36123",
   "metadata": {},
   "outputs": [
    {
     "data": {
      "text/html": [
       "<div>\n",
       "<style scoped>\n",
       "    .dataframe tbody tr th:only-of-type {\n",
       "        vertical-align: middle;\n",
       "    }\n",
       "\n",
       "    .dataframe tbody tr th {\n",
       "        vertical-align: top;\n",
       "    }\n",
       "\n",
       "    .dataframe thead th {\n",
       "        text-align: right;\n",
       "    }\n",
       "</style>\n",
       "<table border=\"1\" class=\"dataframe\">\n",
       "  <thead>\n",
       "    <tr style=\"text-align: right;\">\n",
       "      <th></th>\n",
       "      <th>Nome</th>\n",
       "      <th>Telefone</th>\n",
       "      <th>Carros</th>\n",
       "      <th>Irmãos</th>\n",
       "    </tr>\n",
       "  </thead>\n",
       "  <tbody>\n",
       "    <tr>\n",
       "      <th>0</th>\n",
       "      <td>João</td>\n",
       "      <td>12121</td>\n",
       "      <td>azul</td>\n",
       "      <td>1</td>\n",
       "    </tr>\n",
       "    <tr>\n",
       "      <th>1</th>\n",
       "      <td>João</td>\n",
       "      <td>343434</td>\n",
       "      <td>preto</td>\n",
       "      <td>1</td>\n",
       "    </tr>\n",
       "    <tr>\n",
       "      <th>2</th>\n",
       "      <td>Caio</td>\n",
       "      <td>787878</td>\n",
       "      <td>amarelo</td>\n",
       "      <td>2</td>\n",
       "    </tr>\n",
       "  </tbody>\n",
       "</table>\n",
       "</div>"
      ],
      "text/plain": [
       "   Nome Telefone   Carros Irmãos\n",
       "0  João    12121     azul      1\n",
       "1  João   343434    preto      1\n",
       "2  Caio   787878  amarelo      2"
      ]
     },
     "execution_count": 38,
     "metadata": {},
     "output_type": "execute_result"
    }
   ],
   "source": [
    "#inner\n",
    "m = pd.merge(df1, df2, how = 'inner', on = 'Nome')\n",
    "m"
   ]
  },
  {
   "cell_type": "code",
   "execution_count": 39,
   "id": "0bc38bcb-2026-41e4-803c-47cda5104e5c",
   "metadata": {},
   "outputs": [
    {
     "data": {
      "text/html": [
       "<div>\n",
       "<style scoped>\n",
       "    .dataframe tbody tr th:only-of-type {\n",
       "        vertical-align: middle;\n",
       "    }\n",
       "\n",
       "    .dataframe tbody tr th {\n",
       "        vertical-align: top;\n",
       "    }\n",
       "\n",
       "    .dataframe thead th {\n",
       "        text-align: right;\n",
       "    }\n",
       "</style>\n",
       "<table border=\"1\" class=\"dataframe\">\n",
       "  <thead>\n",
       "    <tr style=\"text-align: right;\">\n",
       "      <th></th>\n",
       "      <th>Nome</th>\n",
       "      <th>Telefone</th>\n",
       "      <th>Carros</th>\n",
       "      <th>Irmãos</th>\n",
       "    </tr>\n",
       "  </thead>\n",
       "  <tbody>\n",
       "    <tr>\n",
       "      <th>0</th>\n",
       "      <td>João</td>\n",
       "      <td>12121</td>\n",
       "      <td>azul</td>\n",
       "      <td>1</td>\n",
       "    </tr>\n",
       "    <tr>\n",
       "      <th>1</th>\n",
       "      <td>João</td>\n",
       "      <td>343434</td>\n",
       "      <td>preto</td>\n",
       "      <td>1</td>\n",
       "    </tr>\n",
       "    <tr>\n",
       "      <th>2</th>\n",
       "      <td>Pedro</td>\n",
       "      <td>565656</td>\n",
       "      <td>verde</td>\n",
       "      <td>NaN</td>\n",
       "    </tr>\n",
       "    <tr>\n",
       "      <th>3</th>\n",
       "      <td>Caio</td>\n",
       "      <td>787878</td>\n",
       "      <td>amarelo</td>\n",
       "      <td>2</td>\n",
       "    </tr>\n",
       "    <tr>\n",
       "      <th>4</th>\n",
       "      <td>Marcelo</td>\n",
       "      <td>NaN</td>\n",
       "      <td>NaN</td>\n",
       "      <td>3</td>\n",
       "    </tr>\n",
       "    <tr>\n",
       "      <th>5</th>\n",
       "      <td>Thiago</td>\n",
       "      <td>NaN</td>\n",
       "      <td>NaN</td>\n",
       "      <td>2</td>\n",
       "    </tr>\n",
       "  </tbody>\n",
       "</table>\n",
       "</div>"
      ],
      "text/plain": [
       "      Nome Telefone   Carros Irmãos\n",
       "0     João    12121     azul      1\n",
       "1     João   343434    preto      1\n",
       "2    Pedro   565656    verde    NaN\n",
       "3     Caio   787878  amarelo      2\n",
       "4  Marcelo      NaN      NaN      3\n",
       "5   Thiago      NaN      NaN      2"
      ]
     },
     "execution_count": 39,
     "metadata": {},
     "output_type": "execute_result"
    }
   ],
   "source": [
    "#outer\n",
    "m = pd.merge(df1, df2, how = 'outer')\n",
    "m"
   ]
  },
  {
   "cell_type": "markdown",
   "id": "ae1948c2-c02f-46b0-a8b1-785fa9ea369e",
   "metadata": {},
   "source": [
    "Um merge “left” ou “right” depende de qual tabela você deixa na direita ou esquerda. Para o seguinte cenário faremos um merge do tipo “left”. Mas o mesmo resultado pode ser obtido com um merge “right” trocando a posição das tabelas no método “merge”."
   ]
  },
  {
   "cell_type": "code",
   "execution_count": 41,
   "id": "246555ef-8a38-45da-afbd-273102db6915",
   "metadata": {},
   "outputs": [
    {
     "data": {
      "text/html": [
       "<div>\n",
       "<style scoped>\n",
       "    .dataframe tbody tr th:only-of-type {\n",
       "        vertical-align: middle;\n",
       "    }\n",
       "\n",
       "    .dataframe tbody tr th {\n",
       "        vertical-align: top;\n",
       "    }\n",
       "\n",
       "    .dataframe thead th {\n",
       "        text-align: right;\n",
       "    }\n",
       "</style>\n",
       "<table border=\"1\" class=\"dataframe\">\n",
       "  <thead>\n",
       "    <tr style=\"text-align: right;\">\n",
       "      <th></th>\n",
       "      <th>Nome</th>\n",
       "      <th>Irmãos</th>\n",
       "      <th>Telefone</th>\n",
       "      <th>Carros</th>\n",
       "    </tr>\n",
       "  </thead>\n",
       "  <tbody>\n",
       "    <tr>\n",
       "      <th>0</th>\n",
       "      <td>João</td>\n",
       "      <td>1</td>\n",
       "      <td>12121</td>\n",
       "      <td>azul</td>\n",
       "    </tr>\n",
       "    <tr>\n",
       "      <th>1</th>\n",
       "      <td>João</td>\n",
       "      <td>1</td>\n",
       "      <td>343434</td>\n",
       "      <td>preto</td>\n",
       "    </tr>\n",
       "    <tr>\n",
       "      <th>2</th>\n",
       "      <td>Pedro</td>\n",
       "      <td>NaN</td>\n",
       "      <td>565656</td>\n",
       "      <td>verde</td>\n",
       "    </tr>\n",
       "    <tr>\n",
       "      <th>3</th>\n",
       "      <td>Caio</td>\n",
       "      <td>2</td>\n",
       "      <td>787878</td>\n",
       "      <td>amarelo</td>\n",
       "    </tr>\n",
       "  </tbody>\n",
       "</table>\n",
       "</div>"
      ],
      "text/plain": [
       "    Nome Irmãos Telefone   Carros\n",
       "0   João      1    12121     azul\n",
       "1   João      1   343434    preto\n",
       "2  Pedro    NaN   565656    verde\n",
       "3   Caio      2   787878  amarelo"
      ]
     },
     "execution_count": 41,
     "metadata": {},
     "output_type": "execute_result"
    }
   ],
   "source": [
    "# Obtém o mesmo resultado\n",
    "m = pd.merge(df1, df2, how = 'left', on = 'Nome')\n",
    "m = pd.merge(df2, df1, how = 'right', on = 'Nome')\n",
    "m"
   ]
  },
  {
   "cell_type": "markdown",
   "id": "ce4662e1-2757-47d0-b458-aa27c87141fa",
   "metadata": {},
   "source": [
    "O método concat(), como dito, concatena os dados a partir de um determinado eixo:"
   ]
  },
  {
   "cell_type": "code",
   "execution_count": 42,
   "id": "e23db4ac-7d7d-4602-a870-eb06f92fd88a",
   "metadata": {},
   "outputs": [
    {
     "data": {
      "text/html": [
       "<div>\n",
       "<style scoped>\n",
       "    .dataframe tbody tr th:only-of-type {\n",
       "        vertical-align: middle;\n",
       "    }\n",
       "\n",
       "    .dataframe tbody tr th {\n",
       "        vertical-align: top;\n",
       "    }\n",
       "\n",
       "    .dataframe thead th {\n",
       "        text-align: right;\n",
       "    }\n",
       "</style>\n",
       "<table border=\"1\" class=\"dataframe\">\n",
       "  <thead>\n",
       "    <tr style=\"text-align: right;\">\n",
       "      <th></th>\n",
       "      <th>Nome</th>\n",
       "      <th>Telefone</th>\n",
       "      <th>Carros</th>\n",
       "      <th>Irmãos</th>\n",
       "    </tr>\n",
       "  </thead>\n",
       "  <tbody>\n",
       "    <tr>\n",
       "      <th>0</th>\n",
       "      <td>João</td>\n",
       "      <td>12121</td>\n",
       "      <td>azul</td>\n",
       "      <td>NaN</td>\n",
       "    </tr>\n",
       "    <tr>\n",
       "      <th>1</th>\n",
       "      <td>João</td>\n",
       "      <td>343434</td>\n",
       "      <td>preto</td>\n",
       "      <td>NaN</td>\n",
       "    </tr>\n",
       "    <tr>\n",
       "      <th>2</th>\n",
       "      <td>Pedro</td>\n",
       "      <td>565656</td>\n",
       "      <td>verde</td>\n",
       "      <td>NaN</td>\n",
       "    </tr>\n",
       "    <tr>\n",
       "      <th>3</th>\n",
       "      <td>Caio</td>\n",
       "      <td>787878</td>\n",
       "      <td>amarelo</td>\n",
       "      <td>NaN</td>\n",
       "    </tr>\n",
       "    <tr>\n",
       "      <th>0</th>\n",
       "      <td>João</td>\n",
       "      <td>NaN</td>\n",
       "      <td>NaN</td>\n",
       "      <td>1</td>\n",
       "    </tr>\n",
       "    <tr>\n",
       "      <th>1</th>\n",
       "      <td>Marcelo</td>\n",
       "      <td>NaN</td>\n",
       "      <td>NaN</td>\n",
       "      <td>3</td>\n",
       "    </tr>\n",
       "    <tr>\n",
       "      <th>2</th>\n",
       "      <td>Thiago</td>\n",
       "      <td>NaN</td>\n",
       "      <td>NaN</td>\n",
       "      <td>2</td>\n",
       "    </tr>\n",
       "    <tr>\n",
       "      <th>3</th>\n",
       "      <td>Caio</td>\n",
       "      <td>NaN</td>\n",
       "      <td>NaN</td>\n",
       "      <td>2</td>\n",
       "    </tr>\n",
       "  </tbody>\n",
       "</table>\n",
       "</div>"
      ],
      "text/plain": [
       "      Nome Telefone   Carros Irmãos\n",
       "0     João    12121     azul    NaN\n",
       "1     João   343434    preto    NaN\n",
       "2    Pedro   565656    verde    NaN\n",
       "3     Caio   787878  amarelo    NaN\n",
       "0     João      NaN      NaN      1\n",
       "1  Marcelo      NaN      NaN      3\n",
       "2   Thiago      NaN      NaN      2\n",
       "3     Caio      NaN      NaN      2"
      ]
     },
     "execution_count": 42,
     "metadata": {},
     "output_type": "execute_result"
    }
   ],
   "source": [
    "pd.concat([df1, df2])"
   ]
  },
  {
   "cell_type": "markdown",
   "id": "6358c432-cea4-4bff-9aa8-6d5eaf8fb6b0",
   "metadata": {},
   "source": [
    "Pandas provê alguns métodos de leitura de arquivos externos. A tabela abaixo mostra os métodos:\n",
    "<img src=\"img/read.png\" />"
   ]
  },
  {
   "cell_type": "markdown",
   "id": "3dbc6e07-cb31-4f29-bd6d-fc66e69e0021",
   "metadata": {},
   "source": [
    "Uma importante característica desses métodos é a Inferência de Tipo. Com ela, não há necessidade de especificar qual coluna é numérica, string ou booleana. "
   ]
  },
  {
   "cell_type": "code",
   "execution_count": 44,
   "id": "17e8db6d-13a2-4f5f-ac7c-b2825391690f",
   "metadata": {},
   "outputs": [
    {
     "data": {
      "text/html": [
       "<div>\n",
       "<style scoped>\n",
       "    .dataframe tbody tr th:only-of-type {\n",
       "        vertical-align: middle;\n",
       "    }\n",
       "\n",
       "    .dataframe tbody tr th {\n",
       "        vertical-align: top;\n",
       "    }\n",
       "\n",
       "    .dataframe thead th {\n",
       "        text-align: right;\n",
       "    }\n",
       "</style>\n",
       "<table border=\"1\" class=\"dataframe\">\n",
       "  <thead>\n",
       "    <tr style=\"text-align: right;\">\n",
       "      <th></th>\n",
       "      <th>#</th>\n",
       "      <th>Name</th>\n",
       "      <th>Type 1</th>\n",
       "      <th>Type 2</th>\n",
       "      <th>Total</th>\n",
       "      <th>HP</th>\n",
       "      <th>Attack</th>\n",
       "      <th>Defense</th>\n",
       "      <th>Sp. Atk</th>\n",
       "      <th>Sp. Def</th>\n",
       "      <th>Speed</th>\n",
       "      <th>Generation</th>\n",
       "      <th>Legendary</th>\n",
       "    </tr>\n",
       "  </thead>\n",
       "  <tbody>\n",
       "    <tr>\n",
       "      <th>0</th>\n",
       "      <td>1</td>\n",
       "      <td>Bulbasaur</td>\n",
       "      <td>Grass</td>\n",
       "      <td>Poison</td>\n",
       "      <td>318</td>\n",
       "      <td>45</td>\n",
       "      <td>49</td>\n",
       "      <td>49</td>\n",
       "      <td>65</td>\n",
       "      <td>65</td>\n",
       "      <td>45</td>\n",
       "      <td>1</td>\n",
       "      <td>False</td>\n",
       "    </tr>\n",
       "    <tr>\n",
       "      <th>1</th>\n",
       "      <td>2</td>\n",
       "      <td>Ivysaur</td>\n",
       "      <td>Grass</td>\n",
       "      <td>Poison</td>\n",
       "      <td>405</td>\n",
       "      <td>60</td>\n",
       "      <td>62</td>\n",
       "      <td>63</td>\n",
       "      <td>80</td>\n",
       "      <td>80</td>\n",
       "      <td>60</td>\n",
       "      <td>1</td>\n",
       "      <td>False</td>\n",
       "    </tr>\n",
       "    <tr>\n",
       "      <th>2</th>\n",
       "      <td>3</td>\n",
       "      <td>Venusaur</td>\n",
       "      <td>Grass</td>\n",
       "      <td>Poison</td>\n",
       "      <td>525</td>\n",
       "      <td>80</td>\n",
       "      <td>82</td>\n",
       "      <td>83</td>\n",
       "      <td>100</td>\n",
       "      <td>100</td>\n",
       "      <td>80</td>\n",
       "      <td>1</td>\n",
       "      <td>False</td>\n",
       "    </tr>\n",
       "    <tr>\n",
       "      <th>3</th>\n",
       "      <td>3</td>\n",
       "      <td>VenusaurMega Venusaur</td>\n",
       "      <td>Grass</td>\n",
       "      <td>Poison</td>\n",
       "      <td>625</td>\n",
       "      <td>80</td>\n",
       "      <td>100</td>\n",
       "      <td>123</td>\n",
       "      <td>122</td>\n",
       "      <td>120</td>\n",
       "      <td>80</td>\n",
       "      <td>1</td>\n",
       "      <td>False</td>\n",
       "    </tr>\n",
       "    <tr>\n",
       "      <th>4</th>\n",
       "      <td>4</td>\n",
       "      <td>Charmander</td>\n",
       "      <td>Fire</td>\n",
       "      <td>NaN</td>\n",
       "      <td>309</td>\n",
       "      <td>39</td>\n",
       "      <td>52</td>\n",
       "      <td>43</td>\n",
       "      <td>60</td>\n",
       "      <td>50</td>\n",
       "      <td>65</td>\n",
       "      <td>1</td>\n",
       "      <td>False</td>\n",
       "    </tr>\n",
       "  </tbody>\n",
       "</table>\n",
       "</div>"
      ],
      "text/plain": [
       "   #                   Name Type 1  Type 2  Total  HP  Attack  Defense  \\\n",
       "0  1              Bulbasaur  Grass  Poison    318  45      49       49   \n",
       "1  2                Ivysaur  Grass  Poison    405  60      62       63   \n",
       "2  3               Venusaur  Grass  Poison    525  80      82       83   \n",
       "3  3  VenusaurMega Venusaur  Grass  Poison    625  80     100      123   \n",
       "4  4             Charmander   Fire     NaN    309  39      52       43   \n",
       "\n",
       "   Sp. Atk  Sp. Def  Speed  Generation  Legendary  \n",
       "0       65       65     45           1      False  \n",
       "1       80       80     60           1      False  \n",
       "2      100      100     80           1      False  \n",
       "3      122      120     80           1      False  \n",
       "4       60       50     65           1      False  "
      ]
     },
     "execution_count": 44,
     "metadata": {},
     "output_type": "execute_result"
    }
   ],
   "source": [
    "poke = pd.read_csv('data/pokemon.csv')\n",
    "poke.head()#mostra as 5 primeiras linhas"
   ]
  },
  {
   "cell_type": "markdown",
   "id": "93b7043d-0530-4de5-8059-fc88c3d71d72",
   "metadata": {},
   "source": [
    "## Exercícios<a id='parte_7'></a>"
   ]
  },
  {
   "cell_type": "markdown",
   "id": "d20259e4-80d9-468d-b640-d65169903255",
   "metadata": {},
   "source": [
    "### Manipulação de Dados usando Pandas\n",
    "\n",
    "Usando o dataset Pokemon.csv, faça:\n",
    "\n",
    "    1) Verifique em qual(is) coluna(s) existem valores faltantes\n",
    "    2) Preencha os valores faltantes da coluna Type 2 com os valores correspondentes da coluna Type 1\n",
    "    3) Crie um DataFrame a partir dos dados originais contendo apenas pokemons lendários. Imprima os 5 primeiros\n",
    "    4) Use apply/applymap para passar todos os valores das colunas Name, Type 1 e Type 2 para minúscula"
   ]
  },
  {
   "cell_type": "code",
   "execution_count": null,
   "id": "6f1c021b-2b01-46c5-adf3-a0fa6086c98c",
   "metadata": {},
   "outputs": [],
   "source": [
    "# Resposta 1"
   ]
  },
  {
   "cell_type": "code",
   "execution_count": null,
   "id": "6e9b0760-d0b1-4a9f-b008-d4c27049dbfe",
   "metadata": {},
   "outputs": [],
   "source": [
    "# Resposta 2"
   ]
  },
  {
   "cell_type": "code",
   "execution_count": null,
   "id": "ca6898bb-2f08-4e9d-ad73-b836d68949d4",
   "metadata": {},
   "outputs": [],
   "source": [
    "# Resposta 3"
   ]
  },
  {
   "cell_type": "code",
   "execution_count": null,
   "id": "6e034c8b-b4bd-4182-bb2e-faf3c8a7f55a",
   "metadata": {},
   "outputs": [],
   "source": [
    "# Resposta 4"
   ]
  },
  {
   "cell_type": "markdown",
   "id": "a7ce5803-308b-4c5b-9580-3332c9e1dfd6",
   "metadata": {},
   "source": [
    "## Links Úteis<a id='parte_8'></a>"
   ]
  },
  {
   "cell_type": "markdown",
   "id": "819d4a2c-c59c-4edb-ac40-e2dec4f7e17c",
   "metadata": {},
   "source": [
    "Seguem alguns links úteis para estudo:\n",
    "\n",
    "1. [Documentação](https://docs.python.org/3/) oficial do Python\n",
    "2. [Documentação](https://pandas.pydata.org/docs/) oficial do Pandas\n",
    "3. [Documentação](https://jupyter-notebook.readthedocs.io/en/stable/notebook.html) oficial do Jupyter Notebook\n",
    "4. Um [guia](https://www.markdownguide.org/getting-started/) de como usar o markdown no jupyter"
   ]
  },
  {
   "cell_type": "code",
   "execution_count": null,
   "id": "4ea4fd97-22b1-4587-8d05-619d6549547b",
   "metadata": {},
   "outputs": [],
   "source": []
  }
 ],
 "metadata": {
  "kernelspec": {
   "display_name": "Python 3 (ipykernel)",
   "language": "python",
   "name": "python3"
  },
  "language_info": {
   "codemirror_mode": {
    "name": "ipython",
    "version": 3
   },
   "file_extension": ".py",
   "mimetype": "text/x-python",
   "name": "python",
   "nbconvert_exporter": "python",
   "pygments_lexer": "ipython3",
   "version": "3.10.9"
  }
 },
 "nbformat": 4,
 "nbformat_minor": 5
}
